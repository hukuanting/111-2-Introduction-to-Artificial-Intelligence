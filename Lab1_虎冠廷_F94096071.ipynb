{
  "cells": [
    {
      "cell_type": "markdown",
      "source": [
        "# Setup Code\n",
        "Before getting started we need to run some boilerplate code to set up our environment. You'll need to rerun this setup code each time you start the notebook.\n",
        "\n",
        "First, run this cell load the [autoreload](https://ipython.readthedocs.io/en/stable/config/extensions/autoreload.html?highlight=autoreload) extension. This allows us to edit `.py` source files, and re-import them into the notebook for a seamless editing and debugging experience."
      ],
      "metadata": {
        "id": "4zGnwagonYam"
      }
    },
    {
      "cell_type": "code",
      "source": [
        "%load_ext autoreload\n",
        "%autoreload 2"
      ],
      "metadata": {
        "id": "u_NWGbZNnd93"
      },
      "execution_count": null,
      "outputs": []
    },
    {
      "cell_type": "markdown",
      "source": [
        "### Google Colab Setup\n",
        "Next we need to run a few commands to set up our environment on Google Colab. If you are running this notebook on a local machine you can skip this section.\n",
        "\n",
        "Run the following cell to mount your Google Drive. Follow the link, sign in to your Google account (the same account you used to store this notebook!) and copy the authorization code into the text box that appears below."
      ],
      "metadata": {
        "id": "5XBcbv_Fnilf"
      }
    },
    {
      "cell_type": "code",
      "execution_count": null,
      "metadata": {
        "id": "_yqsFCSnNFB9",
        "colab": {
          "base_uri": "https://localhost:8080/"
        },
        "outputId": "eb4d9b73-251d-4cbf-d127-20b397034c60"
      },
      "outputs": [
        {
          "output_type": "stream",
          "name": "stdout",
          "text": [
            "Mounted at /content/drive\n"
          ]
        }
      ],
      "source": [
        "# connect to self-drive\n",
        "from google.colab import drive\n",
        "drive.mount ('/content/drive')"
      ]
    },
    {
      "cell_type": "markdown",
      "source": [
        "# Data processing"
      ],
      "metadata": {
        "id": "TsRc_iGPohda"
      }
    },
    {
      "cell_type": "markdown",
      "source": [
        "### Import the necessary library"
      ],
      "metadata": {
        "id": "xAEvVYcooNzw"
      }
    },
    {
      "cell_type": "code",
      "source": [
        "# intall package\n",
        "!pip install torchmetrics"
      ],
      "metadata": {
        "id": "Qlg2WmqSqyCa",
        "colab": {
          "base_uri": "https://localhost:8080/"
        },
        "outputId": "42c729f4-fa32-4c82-84dd-b340b796de2e"
      },
      "execution_count": null,
      "outputs": [
        {
          "output_type": "stream",
          "name": "stdout",
          "text": [
            "Looking in indexes: https://pypi.org/simple, https://us-python.pkg.dev/colab-wheels/public/simple/\n",
            "Collecting torchmetrics\n",
            "  Downloading torchmetrics-0.11.4-py3-none-any.whl (519 kB)\n",
            "\u001b[2K     \u001b[90m━━━━━━━━━━━━━━━━━━━━━━━━━━━━━━━━━━━━━━\u001b[0m \u001b[32m519.2/519.2 KB\u001b[0m \u001b[31m31.6 MB/s\u001b[0m eta \u001b[36m0:00:00\u001b[0m\n",
            "\u001b[?25hRequirement already satisfied: numpy>=1.17.2 in /usr/local/lib/python3.9/dist-packages (from torchmetrics) (1.22.4)\n",
            "Requirement already satisfied: torch>=1.8.1 in /usr/local/lib/python3.9/dist-packages (from torchmetrics) (1.13.1+cu116)\n",
            "Requirement already satisfied: packaging in /usr/local/lib/python3.9/dist-packages (from torchmetrics) (23.0)\n",
            "Requirement already satisfied: typing-extensions in /usr/local/lib/python3.9/dist-packages (from torch>=1.8.1->torchmetrics) (4.5.0)\n",
            "Installing collected packages: torchmetrics\n",
            "Successfully installed torchmetrics-0.11.4\n"
          ]
        }
      ]
    },
    {
      "cell_type": "code",
      "execution_count": null,
      "metadata": {
        "id": "vKF2LNEROVg7"
      },
      "outputs": [],
      "source": [
        "# import the package which we will use to programing\n",
        "import os\n",
        "import csv\n",
        "import torch\n",
        "import numpy as np\n",
        "import pandas as pd\n",
        "import torch.nn as nn\n",
        "import torchvision\n",
        "import random\n",
        "import matplotlib.pyplot as plt\n",
        "import pandas as pd\n",
        "import torch.optim as optim\n",
        "import math\n",
        "\n",
        "from PIL import Image\n",
        "from google.colab import drive\n",
        "from torchvision import transforms\n",
        "from torch.utils.data import Dataset, DataLoader, random_split\n",
        "from torchmetrics.classification import MulticlassAccuracy\n",
        "from tqdm.notebook import tqdm\n",
        "from sklearn.model_selection import train_test_split\n",
        "import torch.utils.data as data\n",
        "from torchvision import datasets\n"
      ]
    },
    {
      "cell_type": "markdown",
      "source": [
        "### Device\n",
        "The using device below should be \"cuda:0\" as\n",
        "\n",
        "\n",
        "```\n",
        "Use device: cuda:0\n",
        "```\n",
        "\n",
        "\n",
        "We advice using cuda to train which is much quicker than cpu only in training process.\n",
        "\n",
        "If not, please check and change the setting below\n",
        "\n",
        "**Edit -> Notebook settings -> Hardware accelerator -> GPU**\n"
      ],
      "metadata": {
        "id": "ov_9FbGXq6-E"
      }
    },
    {
      "cell_type": "code",
      "source": [
        "# use gpu if you have\n",
        "device = torch.device(\"cuda:0\" if torch.cuda.is_available() else \"cpu\")\n",
        "print(\"Use device:\",device)\n",
        "\n",
        "# set random seed\n",
        "SEED = 6071\n",
        "torch.manual_seed(SEED)\n",
        "torch.cuda.manual_seed(SEED)\n",
        "np.random.seed(SEED)\n",
        "random.seed(SEED)\n",
        "torch.backends.cudnn.deterministic = True"
      ],
      "metadata": {
        "id": "l8fjr794rH3i",
        "colab": {
          "base_uri": "https://localhost:8080/"
        },
        "outputId": "89fca70c-b7f0-4e04-ec0b-e57aeb949076"
      },
      "execution_count": null,
      "outputs": [
        {
          "output_type": "stream",
          "name": "stdout",
          "text": [
            "Use device: cuda:0\n"
          ]
        }
      ]
    },
    {
      "cell_type": "markdown",
      "metadata": {
        "id": "ZF03k40dTKbX"
      },
      "source": [
        "### DataLoader\n",
        "\n",
        "Here should do some processes on your data, we can apply the augmentation functions to make our data have more diversity which may be helpful to the accuracy.\n",
        "\n",
        "**If you want to do the bonus question, you should try to implement the validation part and apply it in the training part.**\n"
      ]
    },
    {
      "cell_type": "code",
      "execution_count": null,
      "metadata": {
        "id": "DXZ-9-AbUEqp",
        "colab": {
          "base_uri": "https://localhost:8080/"
        },
        "outputId": "cce7341c-465f-43d6-87a8-48d23c08e98a"
      },
      "outputs": [
        {
          "output_type": "stream",
          "name": "stdout",
          "text": [
            "Downloading data from https://storage.googleapis.com/tensorflow/tf-keras-datasets/mnist.npz\n",
            "11490434/11490434 [==============================] - 2s 0us/step\n"
          ]
        }
      ],
      "source": [
        "from keras.datasets import mnist\n",
        "(X_train, Y_train), (X_test, Y_test) = mnist.load_data()\n",
        "X_train = X_train.astype('float32') / 255\n",
        "X_test = X_test.astype('float32') / 255"
      ]
    },
    {
      "cell_type": "code",
      "execution_count": null,
      "metadata": {
        "id": "lMdMqzAGUIih"
      },
      "outputs": [],
      "source": [
        "features_train, features_test, targets_train, targets_test = train_test_split(X_train, Y_train, test_size = 0.2, random_state = 42)\n",
        "\n",
        "featuresTrain = torch.from_numpy(features_train)\n",
        "targetsTrain = torch.from_numpy(targets_train).type(torch.LongTensor) # data type is long\n",
        "\n",
        "featuresTest = torch.from_numpy(features_test)\n",
        "targetsTest = torch.from_numpy(targets_test).type(torch.LongTensor) # data type is long\n",
        "\n",
        "train = torch.utils.data.TensorDataset(featuresTrain,targetsTrain)\n",
        "test = torch.utils.data.TensorDataset(featuresTest,targetsTest)"
      ]
    },
    {
      "cell_type": "code",
      "source": [
        "image, label = train[0]\n",
        "print(\"image shape=\", image.shape)\n",
        "print(\"Label=\", label)\n",
        "plt.imshow(image.reshape((28, 28)), cmap=\"gray\")"
      ],
      "metadata": {
        "colab": {
          "base_uri": "https://localhost:8080/",
          "height": 317
        },
        "id": "Hy9o2wb4KSjQ",
        "outputId": "0916660f-1f57-4ed5-ba99-2939e7d9245b"
      },
      "execution_count": null,
      "outputs": [
        {
          "output_type": "stream",
          "name": "stdout",
          "text": [
            "image shape= torch.Size([28, 28])\n",
            "Label= tensor(5)\n"
          ]
        },
        {
          "output_type": "execute_result",
          "data": {
            "text/plain": [
              "<matplotlib.image.AxesImage at 0x7f162c3d4100>"
            ]
          },
          "metadata": {},
          "execution_count": 8
        },
        {
          "output_type": "display_data",
          "data": {
            "text/plain": [
              "<Figure size 432x288 with 1 Axes>"
            ],
            "image/png": "[encoded data removed]"
          },
          "metadata": {
            "needs_background": "light"
          }
        }
      ]
    },
    {
      "cell_type": "markdown",
      "metadata": {
        "id": "ApwdS5r8TKbZ"
      },
      "source": [
        "### Please Change the batch_size in DataLoader\n",
        "\n",
        "batch_size will also affect training step.\n",
        "\n",
        "higher: faster, stable\n",
        "\n",
        "but inprecise on optimize, may use large memory\n",
        "\n",
        "**You should change the appropriate batch size.**\n",
        "\n",
        "**The validation set has already been defined above, if you want to do the bonus question, you should try to apply it below.**"
      ]
    },
    {
      "cell_type": "code",
      "execution_count": null,
      "metadata": {
        "id": "Zd17HpBian9a"
      },
      "outputs": [],
      "source": [
        "# Loaded Datasets to DataLoaders\n",
        "\n",
        "##############################################################################\n",
        "#                    TODO: Validation Dataloader                             #\n",
        "##############################################################################\n",
        "batch_size = 100\n",
        "train_loader = torch.utils.data.DataLoader(train, batch_size = batch_size, shuffle = True)\n",
        "test_loader = torch.utils.data.DataLoader(test, batch_size = batch_size, shuffle = False)\n",
        "\n",
        "##############################################################################\n",
        "#                              END OF YOUR CODE                              #\n",
        "##############################################################################"
      ]
    },
    {
      "cell_type": "markdown",
      "source": [
        "### View the picture from dataset\n"
      ],
      "metadata": {
        "id": "o1yABtYgpPtt"
      }
    },
    {
      "cell_type": "code",
      "execution_count": null,
      "metadata": {
        "id": "_XMf5zwVZgX1",
        "colab": {
          "base_uri": "https://localhost:8080/",
          "height": 306
        },
        "outputId": "ea8cbaa3-8af3-46f9-f494-e7d4d1ac2add"
      },
      "outputs": [
        {
          "output_type": "display_data",
          "data": {
            "text/plain": [
              "<Figure size 432x288 with 1 Axes>"
            ],
            "image/png": "[encoded data removed]"
          },
          "metadata": {
            "needs_background": "light"
          }
        },
        {
          "output_type": "stream",
          "name": "stdout",
          "text": [
            "    3     1     1     2     7     1     8     0     0     1     5     8     6     5     0     9     2     3     1     5     5     0     3     3     2     8     1     4     6     5     3     8\n"
          ]
        }
      ],
      "source": [
        "trainset = datasets.MNIST(root='./data', train=True, download=True, transform = transforms.Compose([transforms.ToTensor(),]))\n",
        "trainloader = DataLoader(trainset, batch_size=128, shuffle=True, num_workers = 2)\n",
        "class_num = 10\n",
        "classes = ('0', '1', '2', '3', '4', '5', '6', '7', '8', '9')\n",
        "def imshow(img):\n",
        "    npimg = img.numpy()\n",
        "    plt.imshow(np.transpose(npimg, (1, 2, 0)))\n",
        "    plt.show()\n",
        "\n",
        "# get some random training images\n",
        "dataiter = iter(trainloader)\n",
        "images, labels = next(dataiter)\n",
        "# show images\n",
        "imshow(torchvision.utils.make_grid(images))\n",
        "# print labels\n",
        "print(' '.join('%5s' % classes[labels[j]] for j in range(32)))"
      ]
    },
    {
      "cell_type": "markdown",
      "metadata": {
        "id": "qA06Gj4OTKba"
      },
      "source": [
        "# Model\n"
      ]
    },
    {
      "cell_type": "markdown",
      "source": [
        "### Model design\n",
        "\n",
        "Design your own model structure.\n",
        "\n",
        "Here we would like you to practice Multi-Layer-Perceptron (MLP) which means you\n",
        "\n",
        "can only use nn.linear() to design your model.\n",
        "\n",
        "Please use nn.linear() to set the neuron numbers and net layers.\n",
        "\n",
        "Hint: Activation functions can also be used, such as ReLU() and so on."
      ],
      "metadata": {
        "id": "iUk8OZOxVZb6"
      }
    },
    {
      "cell_type": "code",
      "execution_count": null,
      "metadata": {
        "id": "0-fuSQfuarXg"
      },
      "outputs": [],
      "source": [
        "##############################################\n",
        "# Build your model here!\n",
        "#\n",
        "# Practice:\n",
        "#   Try to implement MLP with pytorch !\n",
        "##############################################\n",
        "import torch.nn.functional as F\n",
        "class trainmodel(nn.Module):\n",
        "  def __init__(self):\n",
        "    super(trainmodel, self).__init__()\n",
        "    ##############################################################################\n",
        "    #                    TODO: Complete the code                                 #\n",
        "    ##############################################################################\n",
        "    self.fc1 = nn.Linear(28*28, 50)\n",
        "    self.fc1_drop = nn.Dropout(0.2)\n",
        "    self.fc2 = nn.Linear(50, 50)\n",
        "    self.fc2_drop = nn.Dropout(0.2)\n",
        "    self.fc3 = nn.Linear(50, 10)\n",
        "            ##############################################################################\n",
        "            #                              END OF YOUR CODE                              #\n",
        "            ##############################################################################\n",
        "\n",
        "  def forward(self, x):\n",
        "    x = x.view(-1, 28*28)\n",
        "    x = F.relu(self.fc1(x))\n",
        "    x = self.fc1_drop(x)\n",
        "    x = F.relu(self.fc2(x))\n",
        "    x = self.fc2_drop(x)\n",
        "    return F.log_softmax(self.fc3(x), dim=1)\n",
        "\n",
        "        ##############################################################################\n",
        "        #                              END OF YOUR CODE                              #\n",
        "        ##############################################################################\n",
        "\n",
        "model = trainmodel()"
      ]
    },
    {
      "cell_type": "markdown",
      "source": [
        "### Test model output"
      ],
      "metadata": {
        "id": "I_JYfx2u57Qt"
      }
    },
    {
      "cell_type": "markdown",
      "source": [
        "You can test your own model here.\n",
        "\n",
        "Result should be\n",
        "\n",
        "```\n",
        "torch.Size([batch_size, class_num])\n",
        "```\n",
        "\n"
      ],
      "metadata": {
        "id": "jZWoyaBa6A1Y"
      }
    },
    {
      "cell_type": "code",
      "execution_count": null,
      "metadata": {
        "id": "hnnZ5BcjemXJ",
        "colab": {
          "base_uri": "https://localhost:8080/"
        },
        "outputId": "d4d043b4-fd22-4269-d489-014339df6852"
      },
      "outputs": [
        {
          "output_type": "stream",
          "name": "stdout",
          "text": [
            "trainmodel(\n",
            "  (fc1): Linear(in_features=784, out_features=50, bias=True)\n",
            "  (fc1_drop): Dropout(p=0.2, inplace=False)\n",
            "  (fc2): Linear(in_features=50, out_features=50, bias=True)\n",
            "  (fc2_drop): Dropout(p=0.2, inplace=False)\n",
            "  (fc3): Linear(in_features=50, out_features=10, bias=True)\n",
            ")\n"
          ]
        }
      ],
      "source": [
        "print(model)"
      ]
    },
    {
      "cell_type": "markdown",
      "metadata": {
        "id": "nhO9M8k4TKba"
      },
      "source": [
        "### Parameter setting\n",
        "Please change your own optimizer, learning rate and epochs."
      ]
    },
    {
      "cell_type": "code",
      "execution_count": null,
      "metadata": {
        "id": "16RKXTX9gN6Q"
      },
      "outputs": [],
      "source": [
        "optimizer = torch.optim.Adam(model.parameters(), lr=0.01)   # optimize all cnn parameters\n",
        "loss_func = nn.CrossEntropyLoss()   # the target label is not one-hotted\n",
        "input_shape = (-1,1,28,28)\n",
        "num_epochs=25"
      ]
    },
    {
      "cell_type": "markdown",
      "source": [
        "# Training\n",
        "Here is the main process to train your model, you can complete the validation function to get the bonus."
      ],
      "metadata": {
        "id": "vr8_SI9ZD-vQ"
      }
    },
    {
      "cell_type": "code",
      "source": [
        "from torch.autograd import Variable\n",
        "def fit_model(model, loss_func, optimizer, input_shape, num_epochs, train_loader, test_loader):\n",
        "    # Traning the Model\n",
        "    #history-like list for store loss & acc value\n",
        "    training_loss = []\n",
        "    training_accuracy = []\n",
        "    validation_loss = []\n",
        "    validation_accuracy = []\n",
        "    for epoch in range(num_epochs):\n",
        "        #training model & store loss & acc / epoch\n",
        "        correct_train = 0\n",
        "        total_train = 0\n",
        "        for i, (images, labels) in enumerate(train_loader):\n",
        "            # 1.Define variables\n",
        "            train = Variable(images.view(input_shape))\n",
        "            labels = Variable(labels)\n",
        "            # 2.Clear gradients\n",
        "            optimizer.zero_grad()\n",
        "            # 3.Forward propagation\n",
        "            outputs = model(train)\n",
        "            # 4.Calculate softmax and cross entropy loss\n",
        "            train_loss = loss_func(outputs, labels)\n",
        "            # 5.Calculate gradients\n",
        "            train_loss.backward()\n",
        "            # 6.Update parameters\n",
        "            optimizer.step()\n",
        "            # 7.Get predictions from the maximum value\n",
        "            predicted = torch.max(outputs.data, 1)[1]\n",
        "            # 8.Total number of labels\n",
        "            total_train += len(labels)\n",
        "            # 9.Total correct predictions\n",
        "            correct_train += (predicted == labels).float().sum()\n",
        "        #10.store val_acc / epoch\n",
        "        train_accuracy = 100 * correct_train / float(total_train)\n",
        "        training_accuracy.append(train_accuracy)\n",
        "        # 11.store loss / epoch\n",
        "        training_loss.append(train_loss.data)\n",
        "\n",
        "        #evaluate model & store loss & acc / epoch\n",
        "        correct_test = 0\n",
        "        total_test = 0\n",
        "        for images, labels in test_loader:\n",
        "            # 1.Define variables\n",
        "            test = Variable(images.view(input_shape))\n",
        "            # 2.Forward propagation\n",
        "            outputs = model(test)\n",
        "            # 3.Calculate softmax and cross entropy loss\n",
        "            val_loss = loss_func(outputs, labels)\n",
        "            # 4.Get predictions from the maximum value\n",
        "            predicted = torch.max(outputs.data, 1)[1]\n",
        "            # 5.Total number of labels\n",
        "            total_test += len(labels)\n",
        "            # 6.Total correct predictions\n",
        "            correct_test += (predicted == labels).float().sum()\n",
        "        #6.store val_acc / epoch\n",
        "        val_accuracy = 100 * correct_test / float(total_test)\n",
        "        validation_accuracy.append(val_accuracy)\n",
        "        # 11.store val_loss / epoch\n",
        "        validation_loss.append(val_loss.data)\n",
        "        print('Train Epoch: {}/{} Traing_Loss: {} Traing_acc: {:.6f}% Val_Loss: {} Val_accuracy: {:.6f}%'.format(epoch+1, num_epochs, train_loss.data, train_accuracy, val_loss.data, val_accuracy))\n",
        "    return training_loss, training_accuracy, validation_loss, validation_accuracy"
      ],
      "metadata": {
        "id": "5ACsrPzlc-at"
      },
      "execution_count": null,
      "outputs": []
    },
    {
      "cell_type": "code",
      "source": [
        "training_loss, training_accuracy, validation_loss, validation_accuracy = fit_model(model, loss_func, optimizer, input_shape, num_epochs, train_loader, test_loader)"
      ],
      "metadata": {
        "id": "kvm3wjEhjMDN",
        "colab": {
          "base_uri": "https://localhost:8080/"
        },
        "outputId": "d903f419-e242-458e-c505-1cc9db423e1b"
      },
      "execution_count": null,
      "outputs": [
        {
          "output_type": "stream",
          "name": "stdout",
          "text": [
            "Train Epoch: 1/25 Traing_Loss: 0.2711620032787323 Traing_acc: 85.993752% Val_Loss: 0.3041965663433075 Val_accuracy: 89.400002%\n",
            "Train Epoch: 2/25 Traing_Loss: 0.18779201805591583 Traing_acc: 90.583336% Val_Loss: 0.21404032409191132 Val_accuracy: 90.991669%\n",
            "Train Epoch: 3/25 Traing_Loss: 0.18509911000728607 Traing_acc: 91.677086% Val_Loss: 0.2204071432352066 Val_accuracy: 91.300003%\n",
            "Train Epoch: 4/25 Traing_Loss: 0.21751698851585388 Traing_acc: 91.768753% Val_Loss: 0.1246684193611145 Val_accuracy: 91.766670%\n",
            "Train Epoch: 5/25 Traing_Loss: 0.35034674406051636 Traing_acc: 92.404167% Val_Loss: 0.1729166954755783 Val_accuracy: 91.925003%\n",
            "Train Epoch: 6/25 Traing_Loss: 0.4096752107143402 Traing_acc: 92.675003% Val_Loss: 0.27258071303367615 Val_accuracy: 91.941666%\n",
            "Train Epoch: 7/25 Traing_Loss: 0.20572103559970856 Traing_acc: 92.816666% Val_Loss: 0.20017850399017334 Val_accuracy: 91.708336%\n",
            "Train Epoch: 8/25 Traing_Loss: 0.1634458750486374 Traing_acc: 93.020836% Val_Loss: 0.14420825242996216 Val_accuracy: 92.208336%\n",
            "Train Epoch: 9/25 Traing_Loss: 0.16651798784732819 Traing_acc: 93.389580% Val_Loss: 0.2701449990272522 Val_accuracy: 91.933334%\n",
            "Train Epoch: 10/25 Traing_Loss: 0.17054203152656555 Traing_acc: 93.156250% Val_Loss: 0.23733985424041748 Val_accuracy: 92.058334%\n",
            "Train Epoch: 11/25 Traing_Loss: 0.21769246459007263 Traing_acc: 93.354164% Val_Loss: 0.1413147747516632 Val_accuracy: 92.599998%\n",
            "Train Epoch: 12/25 Traing_Loss: 0.21609415113925934 Traing_acc: 93.449997% Val_Loss: 0.20944508910179138 Val_accuracy: 92.991669%\n",
            "Train Epoch: 13/25 Traing_Loss: 0.1009630560874939 Traing_acc: 93.525002% Val_Loss: 0.1821429580450058 Val_accuracy: 92.908333%\n",
            "Train Epoch: 14/25 Traing_Loss: 0.31590449810028076 Traing_acc: 93.724998% Val_Loss: 0.24900482594966888 Val_accuracy: 91.849998%\n",
            "Train Epoch: 15/25 Traing_Loss: 0.2613421082496643 Traing_acc: 93.579170% Val_Loss: 0.2773611843585968 Val_accuracy: 92.375000%\n",
            "Train Epoch: 16/25 Traing_Loss: 0.26234880089759827 Traing_acc: 93.589584% Val_Loss: 0.14722317457199097 Val_accuracy: 92.841667%\n",
            "Train Epoch: 17/25 Traing_Loss: 0.2814834415912628 Traing_acc: 93.887497% Val_Loss: 0.17826032638549805 Val_accuracy: 92.691666%\n",
            "Train Epoch: 18/25 Traing_Loss: 0.20667824149131775 Traing_acc: 93.916664% Val_Loss: 0.25899016857147217 Val_accuracy: 92.216667%\n",
            "Train Epoch: 19/25 Traing_Loss: 0.1536838710308075 Traing_acc: 93.866669% Val_Loss: 0.22177498042583466 Val_accuracy: 93.300003%\n",
            "Train Epoch: 20/25 Traing_Loss: 0.1824132204055786 Traing_acc: 94.020836% Val_Loss: 0.15766063332557678 Val_accuracy: 93.099998%\n",
            "Train Epoch: 21/25 Traing_Loss: 0.2327313870191574 Traing_acc: 93.960419% Val_Loss: 0.23118799924850464 Val_accuracy: 92.641670%\n",
            "Train Epoch: 22/25 Traing_Loss: 0.20226329565048218 Traing_acc: 93.862503% Val_Loss: 0.2670056223869324 Val_accuracy: 92.966667%\n",
            "Train Epoch: 23/25 Traing_Loss: 0.25096359848976135 Traing_acc: 94.027084% Val_Loss: 0.22981318831443787 Val_accuracy: 92.616669%\n",
            "Train Epoch: 24/25 Traing_Loss: 0.2617396414279938 Traing_acc: 94.018753% Val_Loss: 0.20843514800071716 Val_accuracy: 93.058334%\n",
            "Train Epoch: 25/25 Traing_Loss: 0.2066296637058258 Traing_acc: 94.189583% Val_Loss: 0.17765161395072937 Val_accuracy: 93.091667%\n"
          ]
        }
      ]
    },
    {
      "cell_type": "markdown",
      "source": [
        "# Plot the Loss & Accuracy curve (Including bonus parts)"
      ],
      "metadata": {
        "id": "AUrjPhkCA_aS"
      }
    },
    {
      "cell_type": "markdown",
      "source": [
        "The followed plots will show the training accuracy and loss curves; however, if you would like to do the bonus part, you have to add the validation accuracy and loss curves on the plots."
      ],
      "metadata": {
        "id": "GmXkil9T-uUm"
      }
    },
    {
      "cell_type": "code",
      "source": [
        "plt.plot(range(num_epochs), training_loss, 'b-', label='Training_loss')\n",
        "plt.plot(range(num_epochs), validation_loss, 'g-', label='validation_loss')\n",
        "plt.title('Training & Validation loss')\n",
        "plt.xlabel('Number of epochs')\n",
        "plt.ylabel('Loss')\n",
        "plt.legend()\n",
        "plt.show()\n",
        "plt.plot(range(num_epochs), training_accuracy, 'b-', label='Training_accuracy')\n",
        "plt.plot(range(num_epochs), validation_accuracy, 'g-', label='Validation_accuracy')\n",
        "plt.title('Training & Validation accuracy')\n",
        "plt.xlabel('Number of epochs')\n",
        "plt.ylabel('Accuracy')\n",
        "plt.legend()\n",
        "plt.show()"
      ],
      "metadata": {
        "colab": {
          "base_uri": "https://localhost:8080/",
          "height": 573
        },
        "id": "VRYlvQ6_iUl4",
        "outputId": "4dfad954-731c-4285-ee4a-35b49f9a4b38"
      },
      "execution_count": null,
      "outputs": [
        {
          "output_type": "display_data",
          "data": {
            "text/plain": [
              "<Figure size 432x288 with 1 Axes>"
            ],
            "image/png": "[encoded data removed]"
          },
          "metadata": {
            "needs_background": "light"
          }
        },
        {
          "output_type": "display_data",
          "data": {
            "text/plain": [
              "<Figure size 432x288 with 1 Axes>"
            ],
            "image/png": "[encoded data removed]"
          },
          "metadata": {
            "needs_background": "light"
          }
        }
      ]
    },
    {
      "cell_type": "markdown",
      "source": [
        "# Test the accuracy on testing dataset"
      ],
      "metadata": {
        "id": "cq9pN-ePBH7X"
      }
    },
    {
      "cell_type": "code",
      "execution_count": null,
      "metadata": {
        "id": "xc9WDwp_hLHh",
        "colab": {
          "base_uri": "https://localhost:8080/"
        },
        "outputId": "8c6f8a79-4ca8-4aca-f700-b125859e8b80"
      },
      "outputs": [
        {
          "output_type": "stream",
          "name": "stdout",
          "text": [
            "Accuracy of the network on the 10000 test images: 95.791667 %\n"
          ]
        }
      ],
      "source": [
        "correct = 0\n",
        "total = 0\n",
        "with torch.no_grad():\n",
        "    for data in test_loader:\n",
        "        images, labels = data[0], data[1]\n",
        "        outputs = model(images)\n",
        "        _, predicted = torch.max(outputs.data, 1)\n",
        "        total += labels.size(0)\n",
        "        correct += (predicted == labels).sum().item()\n",
        "print('Accuracy of the network on the 10000 test images: %f %%' % (100 * correct / total))"
      ]
    },
    {
      "cell_type": "markdown",
      "source": [
        "# (Bonus) Complete the Confusion matrix\n",
        "\n",
        "You can complete the Confusion matrix here to get the bonus."
      ],
      "metadata": {
        "id": "DgCd25QeDMTf"
      }
    },
    {
      "cell_type": "code",
      "source": [
        "import time\n",
        "model.eval()\n",
        "y_pred = []\n",
        "y_true = []\n",
        "with torch.no_grad():\n",
        "  end = time.time()\n",
        "  for images, labels in test_loader:\n",
        "      test = Variable(images.view(input_shape))\n",
        "      outputs = model(test)\n",
        "      _, preds = torch.max(outputs, 1)\n",
        "      loss = loss_func(outputs, labels)\n",
        "\n",
        "      y_pred.extend(preds.view(-1).detach().cpu().numpy())\n",
        "      y_true.extend(labels.view(-1).detach().cpu().numpy())"
      ],
      "metadata": {
        "id": "Yg4Rm_xPDVsW"
      },
      "execution_count": null,
      "outputs": []
    },
    {
      "cell_type": "code",
      "source": [
        "from sklearn.metrics import confusion_matrix\n",
        "cf_matrix = confusion_matrix(y_true, y_pred)"
      ],
      "metadata": {
        "id": "toVDbl88iv2O"
      },
      "execution_count": null,
      "outputs": []
    },
    {
      "cell_type": "code",
      "source": [
        "per_cls_acc = cf_matrix.diagonal()/cf_matrix.sum(axis=0)\n",
        "class_names = ['0', '1', '2', '3', '4', '5', '6', '7', '8', '9']\n",
        "print(class_names)\n",
        "print(per_cls_acc)\n",
        "print(\"Plot confusion matrix\")"
      ],
      "metadata": {
        "colab": {
          "base_uri": "https://localhost:8080/"
        },
        "id": "j0FFWoGzi_vr",
        "outputId": "1e42d34b-9820-4dfe-f3a2-c37bf70188c1"
      },
      "execution_count": null,
      "outputs": [
        {
          "output_type": "stream",
          "name": "stdout",
          "text": [
            "['0', '1', '2', '3', '4', '5', '6', '7', '8', '9']\n",
            "[0.97527707 0.96433878 0.9516129  0.98022356 0.96762905 0.94689469\n",
            " 0.97357204 0.96594427 0.9257384  0.92799353]\n",
            "Plot confusion matrix\n"
          ]
        }
      ]
    },
    {
      "cell_type": "code",
      "source": [
        "import seaborn as sns\n",
        "df_cm = pd.DataFrame(cf_matrix, class_names, class_names)\n",
        "plt.figure(figsize = (9,9))\n",
        "sns.heatmap(df_cm, annot=True, fmt=\"d\", cmap='BuGn')\n",
        "plt.xlabel(\"prediction\")\n",
        "plt.ylabel(\"label (ground truth)\")\n",
        "plt.savefig(\"confusion_matrix.png\")"
      ],
      "metadata": {
        "colab": {
          "base_uri": "https://localhost:8080/",
          "height": 551
        },
        "id": "bcYm1d5-jFTS",
        "outputId": "e39498a1-76bd-40e3-fb2e-aacc2e52b254"
      },
      "execution_count": null,
      "outputs": [
        {
          "output_type": "display_data",
          "data": {
            "text/plain": [
              "<Figure size 648x648 with 2 Axes>"
            ],
            "image/png": "[encoded data removed]"
          },
          "metadata": {
            "needs_background": "light"
          }
        }
      ]
    }
  ],
  "metadata": {
    "colab": {
      "provenance": []
    },
    "kernelspec": {
      "display_name": "Python 3",
      "language": "python",
      "name": "python3"
    },
    "language_info": {
      "name": "python",
      "version": "3.10.1"
    },
    "vscode": {
      "interpreter": {
        "hash": "369f2c481f4da34e4445cda3fffd2e751bd1c4d706f27375911949ba6bb62e1c"
      }
    },
    "accelerator": "GPU",
    "gpuClass": "standard"
  },
  "nbformat": 4,
  "nbformat_minor": 0
}